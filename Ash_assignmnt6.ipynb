{
 "cells": [
  {
   "cell_type": "code",
   "execution_count": 2,
   "id": "3c0d3d8e",
   "metadata": {},
   "outputs": [
    {
     "name": "stdout",
     "output_type": "stream",
     "text": [
      "Requirement already satisfied: nltk in c:\\users\\ashwa\\anaconda3\\lib\\site-packages (3.7)Note: you may need to restart the kernel to use updated packages.\n",
      "Requirement already satisfied: click in c:\\users\\ashwa\\anaconda3\\lib\\site-packages (from nltk) (8.0.4)\n",
      "Requirement already satisfied: regex>=2021.8.3 in c:\\users\\ashwa\\anaconda3\\lib\\site-packages (from nltk) (2022.3.15)\n",
      "Requirement already satisfied: joblib in c:\\users\\ashwa\\anaconda3\\lib\\site-packages (from nltk) (1.1.0)\n",
      "Requirement already satisfied: tqdm in c:\\users\\ashwa\\anaconda3\\lib\\site-packages (from nltk) (4.64.0)\n",
      "Requirement already satisfied: colorama in c:\\users\\ashwa\\anaconda3\\lib\\site-packages (from click->nltk) (0.4.4)\n",
      "\n"
     ]
    }
   ],
   "source": [
    "pip install nltk"
   ]
  },
  {
   "cell_type": "code",
   "execution_count": 1,
   "id": "675464fe",
   "metadata": {},
   "outputs": [
    {
     "name": "stderr",
     "output_type": "stream",
     "text": [
      "[nltk_data] Downloading package stopwords to\n",
      "[nltk_data]     C:\\Users\\ashwa\\AppData\\Roaming\\nltk_data...\n",
      "[nltk_data]   Package stopwords is already up-to-date!\n"
     ]
    }
   ],
   "source": [
    "import pandas as pd\n",
    "import numpy as np\n",
    "import os\n",
    "import matplotlib.pyplot as plt\n",
    "%matplotlib inline\n",
    "import plotly\n",
    "import seaborn as sns\n",
    "import re\n",
    "import string\n",
    "import nltk\n",
    "from nltk import word_tokenize, pos_tag\n",
    "from nltk.corpus import stopwords\n",
    "nltk.download('stopwords')\n",
    "from nltk.stem.porter import PorterStemmer\n",
    "from nltk.stem import WordNetLemmatizer"
   ]
  },
  {
   "cell_type": "code",
   "execution_count": 4,
   "id": "9de273fb",
   "metadata": {},
   "outputs": [],
   "source": [
    "ash_raw = pd.read_csv('moto.csv')"
   ]
  },
  {
   "cell_type": "code",
   "execution_count": 5,
   "id": "eebbe01e",
   "metadata": {},
   "outputs": [
    {
     "data": {
      "text/html": [
       "<div>\n",
       "<style scoped>\n",
       "    .dataframe tbody tr th:only-of-type {\n",
       "        vertical-align: middle;\n",
       "    }\n",
       "\n",
       "    .dataframe tbody tr th {\n",
       "        vertical-align: top;\n",
       "    }\n",
       "\n",
       "    .dataframe thead th {\n",
       "        text-align: right;\n",
       "    }\n",
       "</style>\n",
       "<table border=\"1\" class=\"dataframe\">\n",
       "  <thead>\n",
       "    <tr style=\"text-align: right;\">\n",
       "      <th></th>\n",
       "      <th>Rating</th>\n",
       "      <th>Comment</th>\n",
       "      <th>Review_text</th>\n",
       "    </tr>\n",
       "  </thead>\n",
       "  <tbody>\n",
       "    <tr>\n",
       "      <th>0</th>\n",
       "      <td>3</td>\n",
       "      <td>Decent product</td>\n",
       "      <td>Loved the ColorGood FinishIt's bulky as far as...</td>\n",
       "    </tr>\n",
       "    <tr>\n",
       "      <th>1</th>\n",
       "      <td>5</td>\n",
       "      <td>Wonderful</td>\n",
       "      <td>Overall very nice phone with all the latest fe...</td>\n",
       "    </tr>\n",
       "    <tr>\n",
       "      <th>2</th>\n",
       "      <td>5</td>\n",
       "      <td>Perfect product!</td>\n",
       "      <td>Mobile is very good and performance I gifted m...</td>\n",
       "    </tr>\n",
       "    <tr>\n",
       "      <th>3</th>\n",
       "      <td>5</td>\n",
       "      <td>Just wow!</td>\n",
       "      <td>There are options out there that can give you ...</td>\n",
       "    </tr>\n",
       "    <tr>\n",
       "      <th>4</th>\n",
       "      <td>4</td>\n",
       "      <td>Wonderful</td>\n",
       "      <td>Phone is really good in terms of value. With M...</td>\n",
       "    </tr>\n",
       "  </tbody>\n",
       "</table>\n",
       "</div>"
      ],
      "text/plain": [
       "   Rating           Comment                                        Review_text\n",
       "0       3    Decent product  Loved the ColorGood FinishIt's bulky as far as...\n",
       "1       5         Wonderful  Overall very nice phone with all the latest fe...\n",
       "2       5  Perfect product!  Mobile is very good and performance I gifted m...\n",
       "3       5         Just wow!  There are options out there that can give you ...\n",
       "4       4         Wonderful  Phone is really good in terms of value. With M..."
      ]
     },
     "execution_count": 5,
     "metadata": {},
     "output_type": "execute_result"
    }
   ],
   "source": [
    "ash_raw.head()"
   ]
  },
  {
   "cell_type": "markdown",
   "id": "6899e3d3",
   "metadata": {},
   "source": [
    "# What is the percentage of reviews have ratings equal to 5?"
   ]
  },
  {
   "cell_type": "code",
   "execution_count": 6,
   "id": "77daf30b",
   "metadata": {},
   "outputs": [
    {
     "name": "stdout",
     "output_type": "stream",
     "text": [
      "<class 'pandas.core.frame.DataFrame'>\n",
      "RangeIndex: 1000 entries, 0 to 999\n",
      "Data columns (total 3 columns):\n",
      " #   Column       Non-Null Count  Dtype \n",
      "---  ------       --------------  ----- \n",
      " 0   Rating       1000 non-null   int64 \n",
      " 1   Comment      1000 non-null   object\n",
      " 2   Review_text  1000 non-null   object\n",
      "dtypes: int64(1), object(2)\n",
      "memory usage: 23.6+ KB\n"
     ]
    }
   ],
   "source": [
    "ash_raw.info()"
   ]
  },
  {
   "cell_type": "code",
   "execution_count": 50,
   "id": "834167ca",
   "metadata": {},
   "outputs": [
    {
     "data": {
      "text/plain": [
       "Rating              0.417\n",
       "Comment             0.417\n",
       "Review_text         0.417\n",
       "cleaned_comments    0.417\n",
       "dtype: float64"
      ]
     },
     "execution_count": 50,
     "metadata": {},
     "output_type": "execute_result"
    }
   ],
   "source": [
    "ash_raw[ash_raw['Rating']==5].count()/ash_raw.shape[0]"
   ]
  },
  {
   "cell_type": "markdown",
   "id": "d6ac2497",
   "metadata": {},
   "source": [
    "# How many unique comments are there? (Hint: Remove punctuations)# "
   ]
  },
  {
   "cell_type": "code",
   "execution_count": 7,
   "id": "756828ca",
   "metadata": {},
   "outputs": [
    {
     "data": {
      "text/plain": [
       "68"
      ]
     },
     "execution_count": 7,
     "metadata": {},
     "output_type": "execute_result"
    }
   ],
   "source": [
    "def remove_punct(x):\n",
    "    splited = x.split(' ') # splited\n",
    "    # remove punctuations \n",
    "    =\"\".join([word.translate(str.maketrans('','',string.punctuation))+ \" \" for word in splited])\n",
    "    return ''.join(parsedReview)\n",
    "ash_raw['cleaned_comments'] = ash_raw.Comment.apply(remove_punct)\n",
    "ash_raw.head(5)\n",
    "ash_raw['cleaned_comments'].nunique()"
   ]
  },
  {
   "cell_type": "code",
   "execution_count": 8,
   "id": "55490a97",
   "metadata": {},
   "outputs": [
    {
     "data": {
      "text/plain": [
       "Horrible                                      16\n",
       "Worst experience ever!                        14\n",
       "Very poor                                     14\n",
       "Bad quality                                   13\n",
       "Absolute rubbish!                             13\n",
       "Don't waste your money                        13\n",
       "Worthless                                     12\n",
       "Utterly Disappointed                          12\n",
       "Did not meet expectations                     12\n",
       "Terrible product                              12\n",
       "Moderate                                      12\n",
       "Unsatisfactory                                12\n",
       "Could be way better                           11\n",
       "Not good                                      10\n",
       "Hated it!                                     10\n",
       "Useless product                                9\n",
       "Expected a better product                      8\n",
       "Waste of money!                                8\n",
       "Slightly disappointed                          6\n",
       "Not recommended at all                         5\n",
       "Very Disappointed with this phone              1\n",
       "Battery draining quickly.                      1\n",
       "Worst Motorola G series Product Everrrr!!!     1\n",
       "Terrible service from Flipkart                 1\n",
       "Moto disappoints                               1\n",
       "Worst phone ever                               1\n",
       "Name: Comment, dtype: int64"
      ]
     },
     "execution_count": 8,
     "metadata": {},
     "output_type": "execute_result"
    }
   ],
   "source": [
    "ash_raw[ash_raw['Rating'] < 3]['Comment'].value_counts()"
   ]
  },
  {
   "cell_type": "code",
   "execution_count": 9,
   "id": "bf55348a",
   "metadata": {},
   "outputs": [],
   "source": [
    "rat_2 = ash_raw[ash_raw['Rating'] == 2]"
   ]
  },
  {
   "cell_type": "code",
   "execution_count": 10,
   "id": "267254d0",
   "metadata": {},
   "outputs": [
    {
     "data": {
      "text/plain": [
       "Bad quality                          13\n",
       "Moderate                             12\n",
       "Could be way better                  11\n",
       "Not good                             10\n",
       "Expected a better product             8\n",
       "Slightly disappointed                 6\n",
       "Very Disappointed with this phone     1\n",
       "Terrible service from Flipkart        1\n",
       "Moto disappoints                      1\n",
       "Name: Comment, dtype: int64"
      ]
     },
     "execution_count": 10,
     "metadata": {},
     "output_type": "execute_result"
    }
   ],
   "source": [
    "rat_2['Comment'].value_counts()"
   ]
  },
  {
   "cell_type": "code",
   "execution_count": 18,
   "id": "ca004592",
   "metadata": {},
   "outputs": [],
   "source": [
    "rating_g3 = ash_raw[ash_raw['Rating'] >=2]"
   ]
  },
  {
   "cell_type": "code",
   "execution_count": 19,
   "id": "95b3638e",
   "metadata": {},
   "outputs": [
    {
     "ename": "AttributeError",
     "evalue": "'Series' object has no attribute 'value_count'",
     "output_type": "error",
     "traceback": [
      "\u001b[1;31m---------------------------------------------------------------------------\u001b[0m",
      "\u001b[1;31mAttributeError\u001b[0m                            Traceback (most recent call last)",
      "Input \u001b[1;32mIn [19]\u001b[0m, in \u001b[0;36m<cell line: 1>\u001b[1;34m()\u001b[0m\n\u001b[1;32m----> 1\u001b[0m \u001b[43mrating_g3\u001b[49m\u001b[43m[\u001b[49m\u001b[38;5;124;43m'\u001b[39;49m\u001b[38;5;124;43mComment\u001b[39;49m\u001b[38;5;124;43m'\u001b[39;49m\u001b[43m]\u001b[49m\u001b[38;5;241;43m.\u001b[39;49m\u001b[43mvalue_count\u001b[49m()\n",
      "File \u001b[1;32m~\\anaconda3\\lib\\site-packages\\pandas\\core\\generic.py:5575\u001b[0m, in \u001b[0;36mNDFrame.__getattr__\u001b[1;34m(self, name)\u001b[0m\n\u001b[0;32m   5568\u001b[0m \u001b[38;5;28;01mif\u001b[39;00m (\n\u001b[0;32m   5569\u001b[0m     name \u001b[38;5;129;01mnot\u001b[39;00m \u001b[38;5;129;01min\u001b[39;00m \u001b[38;5;28mself\u001b[39m\u001b[38;5;241m.\u001b[39m_internal_names_set\n\u001b[0;32m   5570\u001b[0m     \u001b[38;5;129;01mand\u001b[39;00m name \u001b[38;5;129;01mnot\u001b[39;00m \u001b[38;5;129;01min\u001b[39;00m \u001b[38;5;28mself\u001b[39m\u001b[38;5;241m.\u001b[39m_metadata\n\u001b[0;32m   5571\u001b[0m     \u001b[38;5;129;01mand\u001b[39;00m name \u001b[38;5;129;01mnot\u001b[39;00m \u001b[38;5;129;01min\u001b[39;00m \u001b[38;5;28mself\u001b[39m\u001b[38;5;241m.\u001b[39m_accessors\n\u001b[0;32m   5572\u001b[0m     \u001b[38;5;129;01mand\u001b[39;00m \u001b[38;5;28mself\u001b[39m\u001b[38;5;241m.\u001b[39m_info_axis\u001b[38;5;241m.\u001b[39m_can_hold_identifiers_and_holds_name(name)\n\u001b[0;32m   5573\u001b[0m ):\n\u001b[0;32m   5574\u001b[0m     \u001b[38;5;28;01mreturn\u001b[39;00m \u001b[38;5;28mself\u001b[39m[name]\n\u001b[1;32m-> 5575\u001b[0m \u001b[38;5;28;01mreturn\u001b[39;00m \u001b[38;5;28;43mobject\u001b[39;49m\u001b[38;5;241;43m.\u001b[39;49m\u001b[38;5;21;43m__getattribute__\u001b[39;49m\u001b[43m(\u001b[49m\u001b[38;5;28;43mself\u001b[39;49m\u001b[43m,\u001b[49m\u001b[43m \u001b[49m\u001b[43mname\u001b[49m\u001b[43m)\u001b[49m\n",
      "\u001b[1;31mAttributeError\u001b[0m: 'Series' object has no attribute 'value_count'"
     ]
    }
   ],
   "source": [
    "rating_g3['Comment'].value_count()"
   ]
  },
  {
   "cell_type": "markdown",
   "id": "3fdcaf4c",
   "metadata": {},
   "source": [
    "# What is the POS tag for the word 'Horrible'?"
   ]
  },
  {
   "cell_type": "code",
   "execution_count": 13,
   "id": "6feb2d0f",
   "metadata": {},
   "outputs": [
    {
     "name": "stdout",
     "output_type": "stream",
     "text": [
      "Requirement already satisfied: nltk in c:\\users\\ashwa\\anaconda3\\lib\\site-packages (3.7)\n",
      "Requirement already satisfied: tqdm in c:\\users\\ashwa\\anaconda3\\lib\\site-packages (from nltk) (4.64.0)\n",
      "Requirement already satisfied: regex>=2021.8.3 in c:\\users\\ashwa\\anaconda3\\lib\\site-packages (from nltk) (2022.3.15)\n",
      "Requirement already satisfied: click in c:\\users\\ashwa\\anaconda3\\lib\\site-packages (from nltk) (8.0.4)\n",
      "Requirement already satisfied: joblib in c:\\users\\ashwa\\anaconda3\\lib\\site-packages (from nltk) (1.1.0)\n",
      "Requirement already satisfied: colorama in c:\\users\\ashwa\\anaconda3\\lib\\site-packages (from click->nltk) (0.4.4)\n"
     ]
    }
   ],
   "source": [
    "!pip install nltk"
   ]
  },
  {
   "cell_type": "code",
   "execution_count": 14,
   "id": "23a73b44",
   "metadata": {},
   "outputs": [],
   "source": [
    "from nltk import pos_tag"
   ]
  },
  {
   "cell_type": "code",
   "execution_count": 15,
   "id": "6d6333e7",
   "metadata": {},
   "outputs": [
    {
     "name": "stderr",
     "output_type": "stream",
     "text": [
      "[nltk_data] Downloading package averaged_perceptron_tagger to\n",
      "[nltk_data]     C:\\Users\\ashwa\\AppData\\Roaming\\nltk_data...\n",
      "[nltk_data]   Unzipping taggers\\averaged_perceptron_tagger.zip.\n"
     ]
    },
    {
     "data": {
      "text/plain": [
       "[('Horrible', 'JJ')]"
      ]
     },
     "execution_count": 15,
     "metadata": {},
     "output_type": "execute_result"
    }
   ],
   "source": [
    "nltk.download('averaged_perceptron_tagger')\n",
    "from nltk import pos_tag\n",
    "text =\"Horrible\".split()\n",
    "pos = pos_tag(text)\n",
    "pos"
   ]
  },
  {
   "cell_type": "code",
   "execution_count": 17,
   "id": "acfc89d1",
   "metadata": {},
   "outputs": [
    {
     "name": "stdout",
     "output_type": "stream",
     "text": [
      "Collecting textblob\n",
      "  Downloading textblob-0.17.1-py2.py3-none-any.whl (636 kB)\n",
      "Requirement already satisfied: nltk>=3.1 in c:\\users\\ashwa\\anaconda3\\lib\\site-packages (from textblob) (3.7)\n",
      "Requirement already satisfied: joblib in c:\\users\\ashwa\\anaconda3\\lib\\site-packages (from nltk>=3.1->textblob) (1.1.0)\n",
      "Requirement already satisfied: click in c:\\users\\ashwa\\anaconda3\\lib\\site-packages (from nltk>=3.1->textblob) (8.0.4)\n",
      "Requirement already satisfied: tqdm in c:\\users\\ashwa\\anaconda3\\lib\\site-packages (from nltk>=3.1->textblob) (4.64.0)\n",
      "Requirement already satisfied: regex>=2021.8.3 in c:\\users\\ashwa\\anaconda3\\lib\\site-packages (from nltk>=3.1->textblob) (2022.3.15)\n",
      "Requirement already satisfied: colorama in c:\\users\\ashwa\\anaconda3\\lib\\site-packages (from click->nltk>=3.1->textblob) (0.4.4)\n",
      "Installing collected packages: textblob\n",
      "Successfully installed textblob-0.17.1\n",
      "Note: you may need to restart the kernel to use updated packages.\n"
     ]
    }
   ],
   "source": [
    "pip install -U textblob"
   ]
  },
  {
   "cell_type": "code",
   "execution_count": 23,
   "id": "6c850655",
   "metadata": {},
   "outputs": [
    {
     "data": {
      "text/plain": [
       "23     Unbiased and genuine opinion. Bought it for my...\n",
       "26     Its too big & very heavy too. Have the 1st Gen...\n",
       "61     I'm using this mobile for last 1 month. Few dr...\n",
       "68     After using mobile I am writing a review that ...\n",
       "74     I am very  disappointed from Motorola.. specif...\n",
       "                             ...                        \n",
       "972    Waste of money don't buy this phone you will l...\n",
       "977    Very very disappointed with the performance Mo...\n",
       "978    Hang problem facing within 4day of purchaseREA...\n",
       "982    battery performance is not good.it doesn't sta...\n",
       "990    I bought this for camera but its very bad came...\n",
       "Name: Review_text, Length: 228, dtype: object"
      ]
     },
     "execution_count": 23,
     "metadata": {},
     "output_type": "execute_result"
    }
   ],
   "source": [
    "ash_7 = ash_raw.query(\"Rating < 3\")\n",
    "rev_txt = ash_7[\"Review_text\"]\n",
    "rev_txt\n"
   ]
  },
  {
   "cell_type": "markdown",
   "id": "4b6448f7",
   "metadata": {},
   "source": [
    "# Get \"Review_text\" with Ratings < 3 then retain words with pos tags ['NN','JJ','NNP']. Exclude the word ‘not’ from list of stopwords. Remove stopwords and punctuations then answer below question.\n",
    "\n",
    "How many times does the word “battery” occur. Write the number?"
   ]
  },
  {
   "cell_type": "code",
   "execution_count": 36,
   "id": "2676f315",
   "metadata": {},
   "outputs": [],
   "source": [
    "from nltk.corpus import stopwords"
   ]
  },
  {
   "cell_type": "code",
   "execution_count": 37,
   "id": "46318c9f",
   "metadata": {},
   "outputs": [],
   "source": [
    "stopwords5 = stopwords.words(\"english\")"
   ]
  },
  {
   "cell_type": "code",
   "execution_count": 38,
   "id": "72fe900b",
   "metadata": {},
   "outputs": [],
   "source": [
    "stopwords5.remove('not')\n",
    "stopwords6 = list(stopwords5)"
   ]
  },
  {
   "cell_type": "code",
   "execution_count": 39,
   "id": "7889d2d8",
   "metadata": {},
   "outputs": [],
   "source": [
    "#removing punctuations\n",
    "rev_txt = ash_7[\"Review_text\"].astype(str)\n",
    "rev_txt = rev_txt.apply(remove_punct)\n",
    "stop_words = ['not']+list(stopwords.words(\"english\"))\n"
   ]
  },
  {
   "cell_type": "code",
   "execution_count": 29,
   "id": "c8f6189f",
   "metadata": {},
   "outputs": [
    {
     "name": "stderr",
     "output_type": "stream",
     "text": [
      "[nltk_data] Downloading package stopwords to\n",
      "[nltk_data]     C:\\Users\\ashwa\\AppData\\Roaming\\nltk_data...\n",
      "[nltk_data]   Package stopwords is already up-to-date!\n"
     ]
    }
   ],
   "source": [
    "import string\n",
    "import plotly\n",
    "\n",
    "import seaborn as sns\n",
    "\n",
    "import re\n",
    "\n",
    "import string\n",
    "\n",
    "import nltk\n",
    "from nltk import word_tokenize, pos_tag\n",
    "from nltk.corpus import stopwords\n",
    "nltk.download('stopwords')\n",
    "from nltk.stem.porter import PorterStemmer\n",
    "from nltk.stem import WordNetLemmatizer"
   ]
  },
  {
   "cell_type": "code",
   "execution_count": 40,
   "id": "06c7d227",
   "metadata": {},
   "outputs": [],
   "source": [
    "#removing stop words\n",
    "def text_preproc(x):\n",
    "    x = x.lower() #lowercase\n",
    "    x = ' '.join([word for word in x.split(' ') if word not in stop_words])\n",
    "    return x\n"
   ]
  },
  {
   "cell_type": "code",
   "execution_count": 41,
   "id": "5b431871",
   "metadata": {},
   "outputs": [
    {
     "data": {
      "text/plain": [
       "23     unbiased genuine opinion bought father disappo...\n",
       "26     big  heavy 1st generation moto phone still wor...\n",
       "61     im using mobile last 1 month drawbacks encount...\n",
       "68     using mobile writing review performance mobile...\n",
       "74      disappointed motorola specifically  camera ca...\n",
       "                             ...                        \n",
       "972    waste money dont buy phone lost money refund m...\n",
       "977    disappointed performance motorola didnt expect...\n",
       "978        hang problem facing within 4day purchaseread \n",
       "982    battery performance goodit doesnt stay even da...\n",
       "990                bought camera bad camera qualityread \n",
       "Name: Review_text, Length: 228, dtype: object"
      ]
     },
     "execution_count": 41,
     "metadata": {},
     "output_type": "execute_result"
    }
   ],
   "source": [
    "rev_txt = rev_txt.apply(text_preproc)\n",
    "rev_txt \n"
   ]
  },
  {
   "cell_type": "code",
   "execution_count": 43,
   "id": "206b5789",
   "metadata": {},
   "outputs": [
    {
     "name": "stderr",
     "output_type": "stream",
     "text": [
      "[nltk_data] Downloading package punkt to\n",
      "[nltk_data]     C:\\Users\\ashwa\\AppData\\Roaming\\nltk_data...\n",
      "[nltk_data]   Unzipping tokenizers\\punkt.zip.\n"
     ]
    },
    {
     "data": {
      "text/plain": [
       "True"
      ]
     },
     "execution_count": 43,
     "metadata": {},
     "output_type": "execute_result"
    }
   ],
   "source": [
    "nltk.download('punkt')"
   ]
  },
  {
   "cell_type": "code",
   "execution_count": 44,
   "id": "6275af44",
   "metadata": {},
   "outputs": [
    {
     "data": {
      "text/plain": [
       "0                  1  \n",
       "(camera, NN)       NNP    109\n",
       "(phone, NN)        NNP     69\n",
       "(quality, NN)      NNP     50\n",
       "(battery, NN)      NNP     46\n",
       "(bad, JJ)          NNP     43\n",
       "                         ... \n",
       "(mins, NNS)        NNP      1\n",
       "(mistakeread, NN)  NNP      1\n",
       "(cemara, NN)       NNP      1\n",
       "(celcius, NN)      NNP      1\n",
       "(🙏, NNP)           NNP      1\n",
       "Length: 1199, dtype: int64"
      ]
     },
     "execution_count": 44,
     "metadata": {},
     "output_type": "execute_result"
    }
   ],
   "source": [
    "rev_txt_pos = pd.Series(rev_txt).str.cat(sep = ' ')\n",
    "pos_rev = (pos_tag(word_tokenize(rev_txt_pos)))\n",
    "from nltk.tag import DefaultTagger\n",
    "tagging = DefaultTagger('NN')\n",
    "tagging = DefaultTagger('JJ')\n",
    "tagging = DefaultTagger('NNP')\n",
    "a  = tagging.tag(pos_rev)\n",
    "a = pd.DataFrame(a)\n",
    "a.value_counts()"
   ]
  },
  {
   "cell_type": "code",
   "execution_count": 51,
   "id": "8a1dc3c4",
   "metadata": {},
   "outputs": [
    {
     "data": {
      "text/html": [
       "        <script type=\"text/javascript\">\n",
       "        window.PlotlyConfig = {MathJaxConfig: 'local'};\n",
       "        if (window.MathJax) {MathJax.Hub.Config({SVG: {font: \"STIX-Web\"}});}\n",
       "        if (typeof require !== 'undefined') {\n",
       "        require.undef(\"plotly\");\n",
       "        requirejs.config({\n",
       "            paths: {\n",
       "                'plotly': ['https://cdn.plot.ly/plotly-2.9.0.min']\n",
       "            }\n",
       "        });\n",
       "        require(['plotly'], function(Plotly) {\n",
       "            window._Plotly = Plotly;\n",
       "        });\n",
       "        }\n",
       "        </script>\n",
       "        "
      ]
     },
     "metadata": {},
     "output_type": "display_data"
    },
    {
     "name": "stderr",
     "output_type": "stream",
     "text": [
      "[nltk_data] Downloading package stopwords to\n",
      "[nltk_data]     C:\\Users\\ashwa\\AppData\\Roaming\\nltk_data...\n",
      "[nltk_data]   Package stopwords is already up-to-date!\n"
     ]
    }
   ],
   "source": [
    "import numpy as np\n",
    "import pandas as pd\n",
    "import seaborn as sns\n",
    "import matplotlib.pyplot as plt\n",
    "from textblob import TextBlob\n",
    "from nltk import word_tokenize,pos_tag\n",
    "from plotly.offline import init_notebook_mode, iplot\n",
    "import plotly\n",
    "import plotly.figure_factory as ff\n",
    "import plotly.graph_objs as go\n",
    "from plotly import tools\n",
    "init_notebook_mode(connected=True)\n",
    "import nltk\n",
    "import re\n",
    "nltk.download('stopwords')\n",
    "from nltk.corpus import stopwords\n",
    "from nltk.stem.porter import PorterStemmer\n",
    "from sklearn.linear_model import LogisticRegression\n",
    "from sklearn.ensemble import RandomForestClassifier,AdaBoostClassifier,BaggingClassifier\n",
    "from sklearn.tree import DecisionTreeClassifier\n",
    "from sklearn.feature_extraction.text import CountVectorizer\n",
    "from sklearn.model_selection import cross_val_score,GridSearchCV,RandomizedSearchCV\n",
    "from sklearn.feature_extraction.text import TfidfVectorizer as TV\n",
    "from sklearn.model_selection import train_test_split,cross_val_score,KFold\n",
    "from sklearn.naive_bayes import BernoulliNB\n",
    "from sklearn.metrics import accuracy_score,roc_auc_score,roc_curve,confusion_matrix,classification_report,cohen_kappa_score\n",
    "import warnings\n",
    "warnings.filterwarnings(\"ignore\")"
   ]
  },
  {
   "cell_type": "code",
   "execution_count": 57,
   "id": "6a2db04d",
   "metadata": {},
   "outputs": [
    {
     "data": {
      "text/plain": [
       "Horrible                                      16\n",
       "Worst experience ever!                        14\n",
       "Very poor                                     14\n",
       "Bad quality                                   13\n",
       "Absolute rubbish!                             13\n",
       "Don't waste your money                        13\n",
       "Worthless                                     12\n",
       "Utterly Disappointed                          12\n",
       "Did not meet expectations                     12\n",
       "Terrible product                              12\n",
       "Moderate                                      12\n",
       "Unsatisfactory                                12\n",
       "Could be way better                           11\n",
       "Not good                                      10\n",
       "Hated it!                                     10\n",
       "Useless product                                9\n",
       "Expected a better product                      8\n",
       "Waste of money!                                8\n",
       "Slightly disappointed                          6\n",
       "Not recommended at all                         5\n",
       "Very Disappointed with this phone              1\n",
       "Battery draining quickly.                      1\n",
       "Worst Motorola G series Product Everrrr!!!     1\n",
       "Terrible service from Flipkart                 1\n",
       "Moto disappoints                               1\n",
       "Worst phone ever                               1\n",
       "Name: Comment, dtype: int64"
      ]
     },
     "execution_count": 57,
     "metadata": {},
     "output_type": "execute_result"
    }
   ],
   "source": [
    "# Generating a WordCloud for top 15 comments\n",
    "ash_9= ash_raw[ash_raw['Rating'] < 3]\n",
    "ash_9['Comment'].value_counts()\n"
   ]
  },
  {
   "cell_type": "code",
   "execution_count": 58,
   "id": "914ccbf8",
   "metadata": {},
   "outputs": [],
   "source": [
    "pos_words = []\n",
    "for t in ash_raw.Comment: \n",
    "    pos_words.append(t)\n",
    "\n",
    "pos_text = pd.Series(pos_words).str.cat(sep = ' ')"
   ]
  },
  {
   "cell_type": "code",
   "execution_count": 60,
   "id": "c8004102",
   "metadata": {},
   "outputs": [
    {
     "ename": "ModuleNotFoundError",
     "evalue": "No module named 'wordcloud'",
     "output_type": "error",
     "traceback": [
      "\u001b[1;31m---------------------------------------------------------------------------\u001b[0m",
      "\u001b[1;31mModuleNotFoundError\u001b[0m                       Traceback (most recent call last)",
      "Input \u001b[1;32mIn [60]\u001b[0m, in \u001b[0;36m<cell line: 1>\u001b[1;34m()\u001b[0m\n\u001b[1;32m----> 1\u001b[0m \u001b[38;5;28;01mfrom\u001b[39;00m \u001b[38;5;21;01mwordcloud\u001b[39;00m \u001b[38;5;28;01mimport\u001b[39;00m WordCloud\n\u001b[0;32m      2\u001b[0m \u001b[38;5;28;01mfrom\u001b[39;00m \u001b[38;5;21;01mwordcloud\u001b[39;00m \u001b[38;5;28;01mimport\u001b[39;00m STOPWORDS, ImageColorGenerator\n\u001b[0;32m      4\u001b[0m \u001b[38;5;66;03m# Generating a WordCloud for Positive Feedback\u001b[39;00m\n",
      "\u001b[1;31mModuleNotFoundError\u001b[0m: No module named 'wordcloud'"
     ]
    }
   ],
   "source": [
    "from wordcloud import WordCloud\n",
    "from wordcloud import STOPWORDS, ImageColorGenerator\n",
    "\n",
    "# Generating a WordCloud for Positive Feedback\n",
    "wordcloud = WordCloud(width = 1600, height = 800, max_font_size = 200, background_color = 'white').generate(pos_text)\n",
    "plt.figure(figsize=(15,14))\n",
    "plt.imshow(wordcloud)\n",
    "plt.axis(\"off\")"
   ]
  },
  {
   "cell_type": "code",
   "execution_count": null,
   "id": "9825daef",
   "metadata": {},
   "outputs": [],
   "source": []
  }
 ],
 "metadata": {
  "kernelspec": {
   "display_name": "Python 3 (ipykernel)",
   "language": "python",
   "name": "python3"
  },
  "language_info": {
   "codemirror_mode": {
    "name": "ipython",
    "version": 3
   },
   "file_extension": ".py",
   "mimetype": "text/x-python",
   "name": "python",
   "nbconvert_exporter": "python",
   "pygments_lexer": "ipython3",
   "version": "3.9.12"
  }
 },
 "nbformat": 4,
 "nbformat_minor": 5
}
